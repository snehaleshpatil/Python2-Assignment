{
 "cells": [
  {
   "cell_type": "markdown",
   "metadata": {},
   "source": [
    "# 1. Write a program which accepts a sequence of comma-separated numbers from console and generate a list.\n"
   ]
  },
  {
   "cell_type": "code",
   "execution_count": 6,
   "metadata": {},
   "outputs": [
    {
     "name": "stdout",
     "output_type": "stream",
     "text": [
      "Please provide numbers seperated by comma: 1,2,3\n",
      "Output list of entered comma seperated numbers:  [1, 2, 3]\n"
     ]
    }
   ],
   "source": [
    "lst_str =[]\n",
    "lst_num =[]\n",
    "a = input(\"Please provide numbers seperated by comma: \")\n",
    "lst_str= a.split(\",\")\n",
    "\n",
    "for i in lst_str: \n",
    "    if i.isdigit() :\n",
    "        lst_num.append(int(i))               \n",
    "    else:\n",
    "        continue\n",
    "         \n",
    "\n",
    "print (\"Output list of entered comma seperated numbers: \", lst_num)\n"
   ]
  },
  {
   "cell_type": "markdown",
   "metadata": {
    "collapsed": true
   },
   "source": [
    "\n",
    "#  2. Create the below pattern using nested for loop in Python.\n",
    "\n",
    "*\n",
    "* *\n",
    "* * *\n",
    "* * * *\n",
    "* * * * *\n",
    "* * * *\n",
    "* * *\n",
    "* *\n",
    "*"
   ]
  },
  {
   "cell_type": "code",
   "execution_count": 5,
   "metadata": {},
   "outputs": [
    {
     "name": "stdout",
     "output_type": "stream",
     "text": [
      "Provide input symbol : *\n",
      "Provide number of layers : 5\n",
      "\n",
      "The Output :\n",
      "\n",
      "* \n",
      "* * \n",
      "* * * \n",
      "* * * * \n",
      "* * * * * \n",
      "* * * * \n",
      "* * * \n",
      "* * \n",
      "* \n"
     ]
    }
   ],
   "source": [
    "symbol = str(input (\"Provide input symbol : \"))\n",
    "n = int(input(\"Provide number of layers : \"))\n",
    "\n",
    "print (\"\\nThe Output :\\n\")\n",
    "\n",
    "for i in range(1,n+1):\n",
    "    print((symbol+\" \")*i)\n",
    "\n",
    "for j in range (n-1,0,-1):\n",
    "    print((symbol+\" \")*j)\n",
    "     "
   ]
  },
  {
   "cell_type": "markdown",
   "metadata": {},
   "source": [
    "# 3. Write a Python program to reverse a word after accepting the input from the user.\n",
    "Sample Output:\n",
    "Input word: AcadGild\n",
    "Output: dilGdacA"
   ]
  },
  {
   "cell_type": "code",
   "execution_count": 7,
   "metadata": {},
   "outputs": [
    {
     "name": "stdout",
     "output_type": "stream",
     "text": [
      "Provide string input: AcadGild\n",
      "Reverse Output string: dliGdacA\n"
     ]
    }
   ],
   "source": [
    "ip_str= ''\n",
    "op_str= ''\n",
    "ip_str= input(\"Provide string input: \")\n",
    "op_str=ip_str[::-1]\n",
    "print (\"Reverse Output string:\", op_str)"
   ]
  },
  {
   "cell_type": "markdown",
   "metadata": {
    "collapsed": true
   },
   "source": [
    "# 4. Write a Python Program to print the given string in the format specified in the sample output.\n",
    "WE, THE PEOPLE OF INDIA, having solemnly resolved to constitute India into a SOVEREIGN,SOCIALIST, SECULAR, DEMOCRATIC REPUBLIC and to secure to all its citizens\n",
    "Sample Output:\n",
    "WE, THE PEOPLE OF INDIA,\n",
    "having solemnly resolved to constitute India into a SOVEREIGN, !\n",
    "SOCIALIST, SECULAR, DEMOCRATIC REPUBLIC\n",
    "and to secure to all its citizens"
   ]
  },
  {
   "cell_type": "code",
   "execution_count": 8,
   "metadata": {},
   "outputs": [
    {
     "name": "stdout",
     "output_type": "stream",
     "text": [
      "WE, THE PEOPLE OF INDIA,\n",
      "having solemnly resolved to constitute India into a SOVEREIGN,  !\n",
      "SOCIALIST, SECULAR,DEMOCRATIC REPUBLIC \n",
      "and to secure to all its citizens\n"
     ]
    }
   ],
   "source": [
    "ip_str = \"WE, THE PEOPLE OF INDIA, having solemnly resolved to constitute India into a SOVEREIGN, SOCIALIST, SECULAR, DEMOCRATIC REPUBLIC and to secure to all its citizens\"\n",
    "\n",
    "lst_str = []\n",
    "lst_str2 = []\n",
    "             \n",
    "lst_str = ip_str.split (\", \") \n",
    "\n",
    "lst_str2 = lst_str[5].split(\"and\")\n",
    "             \n",
    "#print (lst_str)\n",
    "\n",
    "print (lst_str[0]+\", \"+lst_str[1]+\",\")\n",
    "print (lst_str[2]+\", \"+ \" !\")\n",
    "print (lst_str[3]+\", \"+lst_str[4]+\",\"+lst_str2[0])\n",
    "print (\"and\" + lst_str2[1] )"
   ]
  },
  {
   "cell_type": "code",
   "execution_count": null,
   "metadata": {
    "collapsed": true
   },
   "outputs": [],
   "source": []
  },
  {
   "cell_type": "code",
   "execution_count": null,
   "metadata": {
    "collapsed": true
   },
   "outputs": [],
   "source": []
  }
 ],
 "metadata": {
  "kernelspec": {
   "display_name": "Python 3",
   "language": "python",
   "name": "python3"
  },
  "language_info": {
   "codemirror_mode": {
    "name": "ipython",
    "version": 3
   },
   "file_extension": ".py",
   "mimetype": "text/x-python",
   "name": "python",
   "nbconvert_exporter": "python",
   "pygments_lexer": "ipython3",
   "version": "3.6.3"
  }
 },
 "nbformat": 4,
 "nbformat_minor": 2
}
